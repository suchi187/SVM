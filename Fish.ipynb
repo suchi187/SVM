{
 "cells": [
  {
   "cell_type": "code",
   "execution_count": 10,
   "id": "b419746f",
   "metadata": {},
   "outputs": [
    {
     "name": "stdout",
     "output_type": "stream",
     "text": [
      "Requirement already satisfied: pandas in c:\\users\\admin\\anaconda3\\lib\\site-packages (1.4.2)\n",
      "Requirement already satisfied: matplotlib in c:\\users\\admin\\anaconda3\\lib\\site-packages (3.5.1)\n",
      "Requirement already satisfied: seaborn in c:\\users\\admin\\anaconda3\\lib\\site-packages (0.11.2)\n",
      "Requirement already satisfied: sklearn in c:\\users\\admin\\anaconda3\\lib\\site-packages (0.0.post1)\n",
      "Requirement already satisfied: python-dateutil>=2.8.1 in c:\\users\\admin\\anaconda3\\lib\\site-packages (from pandas) (2.8.2)\n",
      "Requirement already satisfied: pytz>=2020.1 in c:\\users\\admin\\anaconda3\\lib\\site-packages (from pandas) (2021.3)\n",
      "Requirement already satisfied: numpy>=1.18.5 in c:\\users\\admin\\anaconda3\\lib\\site-packages (from pandas) (1.21.5)\n",
      "Requirement already satisfied: fonttools>=4.22.0 in c:\\users\\admin\\anaconda3\\lib\\site-packages (from matplotlib) (4.25.0)\n",
      "Requirement already satisfied: pillow>=6.2.0 in c:\\users\\admin\\anaconda3\\lib\\site-packages (from matplotlib) (9.0.1)\n",
      "Requirement already satisfied: pyparsing>=2.2.1 in c:\\users\\admin\\anaconda3\\lib\\site-packages (from matplotlib) (3.0.4)\n",
      "Requirement already satisfied: cycler>=0.10 in c:\\users\\admin\\anaconda3\\lib\\site-packages (from matplotlib) (0.11.0)\n",
      "Requirement already satisfied: kiwisolver>=1.0.1 in c:\\users\\admin\\anaconda3\\lib\\site-packages (from matplotlib) (1.3.2)\n",
      "Requirement already satisfied: packaging>=20.0 in c:\\users\\admin\\anaconda3\\lib\\site-packages (from matplotlib) (21.3)\n",
      "Requirement already satisfied: scipy>=1.0 in c:\\users\\admin\\anaconda3\\lib\\site-packages (from seaborn) (1.7.3)\n",
      "Requirement already satisfied: six>=1.5 in c:\\users\\admin\\anaconda3\\lib\\site-packages (from python-dateutil>=2.8.1->pandas) (1.16.0)\n",
      "Note: you may need to restart the kernel to use updated packages.\n"
     ]
    }
   ],
   "source": [
    "pip install pandas matplotlib seaborn sklearn\n"
   ]
  },
  {
   "cell_type": "code",
   "execution_count": 11,
   "id": "b7137313",
   "metadata": {},
   "outputs": [
    {
     "data": {
      "text/html": [
       "<div>\n",
       "<style scoped>\n",
       "    .dataframe tbody tr th:only-of-type {\n",
       "        vertical-align: middle;\n",
       "    }\n",
       "\n",
       "    .dataframe tbody tr th {\n",
       "        vertical-align: top;\n",
       "    }\n",
       "\n",
       "    .dataframe thead th {\n",
       "        text-align: right;\n",
       "    }\n",
       "</style>\n",
       "<table border=\"1\" class=\"dataframe\">\n",
       "  <thead>\n",
       "    <tr style=\"text-align: right;\">\n",
       "      <th></th>\n",
       "      <th>Species</th>\n",
       "      <th>Weight</th>\n",
       "      <th>Length1</th>\n",
       "      <th>Length2</th>\n",
       "      <th>Length3</th>\n",
       "      <th>Height</th>\n",
       "      <th>Width</th>\n",
       "    </tr>\n",
       "  </thead>\n",
       "  <tbody>\n",
       "    <tr>\n",
       "      <th>0</th>\n",
       "      <td>Bream</td>\n",
       "      <td>242.0</td>\n",
       "      <td>23.2</td>\n",
       "      <td>25.4</td>\n",
       "      <td>30.0</td>\n",
       "      <td>11.5200</td>\n",
       "      <td>4.0200</td>\n",
       "    </tr>\n",
       "    <tr>\n",
       "      <th>1</th>\n",
       "      <td>Bream</td>\n",
       "      <td>290.0</td>\n",
       "      <td>24.0</td>\n",
       "      <td>26.3</td>\n",
       "      <td>31.2</td>\n",
       "      <td>12.4800</td>\n",
       "      <td>4.3056</td>\n",
       "    </tr>\n",
       "    <tr>\n",
       "      <th>2</th>\n",
       "      <td>Bream</td>\n",
       "      <td>340.0</td>\n",
       "      <td>23.9</td>\n",
       "      <td>26.5</td>\n",
       "      <td>31.1</td>\n",
       "      <td>12.3778</td>\n",
       "      <td>4.6961</td>\n",
       "    </tr>\n",
       "    <tr>\n",
       "      <th>3</th>\n",
       "      <td>Bream</td>\n",
       "      <td>363.0</td>\n",
       "      <td>26.3</td>\n",
       "      <td>29.0</td>\n",
       "      <td>33.5</td>\n",
       "      <td>12.7300</td>\n",
       "      <td>4.4555</td>\n",
       "    </tr>\n",
       "    <tr>\n",
       "      <th>4</th>\n",
       "      <td>Bream</td>\n",
       "      <td>430.0</td>\n",
       "      <td>26.5</td>\n",
       "      <td>29.0</td>\n",
       "      <td>34.0</td>\n",
       "      <td>12.4440</td>\n",
       "      <td>5.1340</td>\n",
       "    </tr>\n",
       "    <tr>\n",
       "      <th>...</th>\n",
       "      <td>...</td>\n",
       "      <td>...</td>\n",
       "      <td>...</td>\n",
       "      <td>...</td>\n",
       "      <td>...</td>\n",
       "      <td>...</td>\n",
       "      <td>...</td>\n",
       "    </tr>\n",
       "    <tr>\n",
       "      <th>154</th>\n",
       "      <td>Smelt</td>\n",
       "      <td>12.2</td>\n",
       "      <td>11.5</td>\n",
       "      <td>12.2</td>\n",
       "      <td>13.4</td>\n",
       "      <td>2.0904</td>\n",
       "      <td>1.3936</td>\n",
       "    </tr>\n",
       "    <tr>\n",
       "      <th>155</th>\n",
       "      <td>Smelt</td>\n",
       "      <td>13.4</td>\n",
       "      <td>11.7</td>\n",
       "      <td>12.4</td>\n",
       "      <td>13.5</td>\n",
       "      <td>2.4300</td>\n",
       "      <td>1.2690</td>\n",
       "    </tr>\n",
       "    <tr>\n",
       "      <th>156</th>\n",
       "      <td>Smelt</td>\n",
       "      <td>12.2</td>\n",
       "      <td>12.1</td>\n",
       "      <td>13.0</td>\n",
       "      <td>13.8</td>\n",
       "      <td>2.2770</td>\n",
       "      <td>1.2558</td>\n",
       "    </tr>\n",
       "    <tr>\n",
       "      <th>157</th>\n",
       "      <td>Smelt</td>\n",
       "      <td>19.7</td>\n",
       "      <td>13.2</td>\n",
       "      <td>14.3</td>\n",
       "      <td>15.2</td>\n",
       "      <td>2.8728</td>\n",
       "      <td>2.0672</td>\n",
       "    </tr>\n",
       "    <tr>\n",
       "      <th>158</th>\n",
       "      <td>Smelt</td>\n",
       "      <td>19.9</td>\n",
       "      <td>13.8</td>\n",
       "      <td>15.0</td>\n",
       "      <td>16.2</td>\n",
       "      <td>2.9322</td>\n",
       "      <td>1.8792</td>\n",
       "    </tr>\n",
       "  </tbody>\n",
       "</table>\n",
       "<p>159 rows × 7 columns</p>\n",
       "</div>"
      ],
      "text/plain": [
       "    Species  Weight  Length1  Length2  Length3   Height   Width\n",
       "0     Bream   242.0     23.2     25.4     30.0  11.5200  4.0200\n",
       "1     Bream   290.0     24.0     26.3     31.2  12.4800  4.3056\n",
       "2     Bream   340.0     23.9     26.5     31.1  12.3778  4.6961\n",
       "3     Bream   363.0     26.3     29.0     33.5  12.7300  4.4555\n",
       "4     Bream   430.0     26.5     29.0     34.0  12.4440  5.1340\n",
       "..      ...     ...      ...      ...      ...      ...     ...\n",
       "154   Smelt    12.2     11.5     12.2     13.4   2.0904  1.3936\n",
       "155   Smelt    13.4     11.7     12.4     13.5   2.4300  1.2690\n",
       "156   Smelt    12.2     12.1     13.0     13.8   2.2770  1.2558\n",
       "157   Smelt    19.7     13.2     14.3     15.2   2.8728  2.0672\n",
       "158   Smelt    19.9     13.8     15.0     16.2   2.9322  1.8792\n",
       "\n",
       "[159 rows x 7 columns]"
      ]
     },
     "execution_count": 11,
     "metadata": {},
     "output_type": "execute_result"
    }
   ],
   "source": [
    "import pandas as pd\n",
    "from sklearn.model_selection import train_test_split\n",
    "from sklearn.svm import SVC\n",
    "fish=pd.read_excel('D:/aiml/fish_data.xlsx')\n",
    "fish"
   ]
  },
  {
   "cell_type": "code",
   "execution_count": 12,
   "id": "cf307183",
   "metadata": {},
   "outputs": [
    {
     "name": "stdout",
     "output_type": "stream",
     "text": [
      "<class 'pandas.core.frame.DataFrame'>\n",
      "RangeIndex: 159 entries, 0 to 158\n",
      "Data columns (total 7 columns):\n",
      " #   Column   Non-Null Count  Dtype  \n",
      "---  ------   --------------  -----  \n",
      " 0   Species  159 non-null    object \n",
      " 1   Weight   159 non-null    float64\n",
      " 2   Length1  159 non-null    float64\n",
      " 3   Length2  159 non-null    float64\n",
      " 4   Length3  159 non-null    float64\n",
      " 5   Height   159 non-null    float64\n",
      " 6   Width    159 non-null    float64\n",
      "dtypes: float64(6), object(1)\n",
      "memory usage: 8.8+ KB\n"
     ]
    }
   ],
   "source": [
    "fish.info()"
   ]
  },
  {
   "cell_type": "code",
   "execution_count": 13,
   "id": "b2c8b367",
   "metadata": {},
   "outputs": [
    {
     "data": {
      "text/plain": [
       "array(['Bream', 'Roach', 'Whitefish', 'Parkki', 'Perch', 'Pike', 'Smelt'],\n",
       "      dtype=object)"
      ]
     },
     "execution_count": 13,
     "metadata": {},
     "output_type": "execute_result"
    }
   ],
   "source": [
    "fish.Species.unique()"
   ]
  },
  {
   "cell_type": "code",
   "execution_count": 14,
   "id": "580c07c5",
   "metadata": {},
   "outputs": [
    {
     "data": {
      "text/plain": [
       "(     Weight  Length1  Length2  Length3   Height   Width\n",
       " 0     242.0     23.2     25.4     30.0  11.5200  4.0200\n",
       " 1     290.0     24.0     26.3     31.2  12.4800  4.3056\n",
       " 2     340.0     23.9     26.5     31.1  12.3778  4.6961\n",
       " 3     363.0     26.3     29.0     33.5  12.7300  4.4555\n",
       " 4     430.0     26.5     29.0     34.0  12.4440  5.1340\n",
       " ..      ...      ...      ...      ...      ...     ...\n",
       " 154    12.2     11.5     12.2     13.4   2.0904  1.3936\n",
       " 155    13.4     11.7     12.4     13.5   2.4300  1.2690\n",
       " 156    12.2     12.1     13.0     13.8   2.2770  1.2558\n",
       " 157    19.7     13.2     14.3     15.2   2.8728  2.0672\n",
       " 158    19.9     13.8     15.0     16.2   2.9322  1.8792\n",
       " \n",
       " [159 rows x 6 columns],\n",
       " 0      Bream\n",
       " 1      Bream\n",
       " 2      Bream\n",
       " 3      Bream\n",
       " 4      Bream\n",
       "        ...  \n",
       " 154    Smelt\n",
       " 155    Smelt\n",
       " 156    Smelt\n",
       " 157    Smelt\n",
       " 158    Smelt\n",
       " Name: Species, Length: 159, dtype: object)"
      ]
     },
     "execution_count": 14,
     "metadata": {},
     "output_type": "execute_result"
    }
   ],
   "source": [
    "X = fish.drop(['Species'], axis = 'columns')\n",
    "y = fish.Species\n",
    "X,y"
   ]
  },
  {
   "cell_type": "code",
   "execution_count": 15,
   "id": "1e79fed7",
   "metadata": {},
   "outputs": [
    {
     "data": {
      "text/plain": [
       "(     Weight  Length1  Length2  Length3   Height   Width\n",
       " 92    150.0     20.5     22.5     24.0   6.7920  3.6240\n",
       " 121  1015.0     37.0     40.0     42.4  12.3808  7.4624\n",
       " 9     500.0     28.5     30.7     36.2  14.2266  4.9594\n",
       " 22    620.0     31.5     34.5     39.7  15.5227  5.2801\n",
       " 110   556.0     32.0     34.5     36.5  10.2565  6.3875\n",
       " ..      ...      ...      ...      ...      ...     ...\n",
       " 40      0.0     19.0     20.5     22.8   6.4752  3.3516\n",
       " 60   1000.0     37.3     40.0     43.5  12.3540  6.5250\n",
       " 1     290.0     24.0     26.3     31.2  12.4800  4.3056\n",
       " 43    150.0     20.4     22.0     24.7   5.8045  3.7544\n",
       " 21    685.0     31.4     34.0     39.2  15.9936  5.3704\n",
       " \n",
       " [127 rows x 6 columns],\n",
       "      Weight  Length1  Length2  Length3   Height   Width\n",
       " 59    800.0     33.7     36.4     39.6  11.7612  6.5736\n",
       " 79     80.0     17.2     19.0     20.2   5.6358  3.0502\n",
       " 62     60.0     14.3     15.5     17.4   6.5772  2.3142\n",
       " 57    306.0     25.6     28.0     30.8   8.7780  4.6816\n",
       " 137   500.0     42.0     45.0     48.0   6.9600  4.8960\n",
       " 117   650.0     36.5     39.0     41.4  11.1366  6.0030\n",
       " 51    180.0     23.6     25.2     27.9   7.0866  3.9060\n",
       " 20    575.0     31.3     34.0     39.5  15.1285  5.5695\n",
       " 36     69.0     16.5     18.2     20.3   5.2983  2.8217\n",
       " 27    714.0     32.7     36.0     41.5  16.5170  5.8515\n",
       " 143  1550.0     56.0     60.0     64.0   9.6000  6.1440\n",
       " 24    700.0     31.9     35.0     40.5  16.2405  5.5890\n",
       " 58    540.0     28.5     31.0     34.0  10.7440  6.5620\n",
       " 125  1100.0     40.1     43.0     45.5  12.5125  7.4165\n",
       " 118   820.0     36.6     39.0     41.3  12.4313  7.3514\n",
       " 127  1000.0     41.1     44.0     46.6  12.4888  7.5958\n",
       " 0     242.0     23.2     25.4     30.0  11.5200  4.0200\n",
       " 41    110.0     19.1     20.8     23.1   6.1677  3.3957\n",
       " 142  1600.0     56.0     60.0     64.0   9.6000  6.1440\n",
       " 126  1000.0     40.2     43.5     46.0  12.6040  8.1420\n",
       " 64    120.0     17.5     19.0     21.3   8.3922  2.9181\n",
       " 19    650.0     31.0     33.5     38.7  14.4738  5.7276\n",
       " 87    120.0     20.0     22.0     23.5   5.6400  3.5250\n",
       " 120   900.0     37.0     40.0     42.5  11.7300  7.2250\n",
       " 39    120.0     18.6     20.0     22.2   6.2160  3.5742\n",
       " 99    180.0     23.0     25.0     26.5   6.4395  3.6835\n",
       " 82    110.0     19.0     21.0     22.5   5.6925  3.5550\n",
       " 98    188.0     22.6     24.6     26.2   6.7334  4.1658\n",
       " 108   320.0     27.8     30.0     31.6   7.6156  4.7716\n",
       " 151    10.0     11.3     11.8     13.1   2.2139  1.2838\n",
       " 14    600.0     29.4     32.0     37.2  14.9544  5.1708\n",
       " 30    920.0     35.0     38.5     44.1  18.0369  6.3063,\n",
       " 92         Perch\n",
       " 121        Perch\n",
       " 9          Bream\n",
       " 22         Bream\n",
       " 110        Perch\n",
       "          ...    \n",
       " 40         Roach\n",
       " 60     Whitefish\n",
       " 1          Bream\n",
       " 43         Roach\n",
       " 21         Bream\n",
       " Name: Species, Length: 127, dtype: object,\n",
       " 59     Whitefish\n",
       " 79         Perch\n",
       " 62        Parkki\n",
       " 57     Whitefish\n",
       " 137         Pike\n",
       " 117        Perch\n",
       " 51         Roach\n",
       " 20         Bream\n",
       " 36         Roach\n",
       " 27         Bream\n",
       " 143         Pike\n",
       " 24         Bream\n",
       " 58     Whitefish\n",
       " 125        Perch\n",
       " 118        Perch\n",
       " 127        Perch\n",
       " 0          Bream\n",
       " 41         Roach\n",
       " 142         Pike\n",
       " 126        Perch\n",
       " 64        Parkki\n",
       " 19         Bream\n",
       " 87         Perch\n",
       " 120        Perch\n",
       " 39         Roach\n",
       " 99         Perch\n",
       " 82         Perch\n",
       " 98         Perch\n",
       " 108        Perch\n",
       " 151        Smelt\n",
       " 14         Bream\n",
       " 30         Bream\n",
       " Name: Species, dtype: object)"
      ]
     },
     "execution_count": 15,
     "metadata": {},
     "output_type": "execute_result"
    }
   ],
   "source": [
    "X_train, X_test, y_train, y_test = train_test_split(X, y, test_size= 0.2)\n",
    "X_train, X_test, y_train, y_test"
   ]
  },
  {
   "cell_type": "code",
   "execution_count": 16,
   "id": "67b5e902",
   "metadata": {},
   "outputs": [
    {
     "data": {
      "text/plain": [
       "SVC(C=1, kernel='linear')"
      ]
     },
     "execution_count": 16,
     "metadata": {},
     "output_type": "execute_result"
    }
   ],
   "source": [
    "svm_model_linear = SVC(kernel = 'linear', C = 1)\n",
    "svm_model_linear.fit(X_train, y_train)"
   ]
  },
  {
   "cell_type": "code",
   "execution_count": 17,
   "id": "ef6666d0",
   "metadata": {},
   "outputs": [
    {
     "data": {
      "text/plain": [
       "array(['Whitefish', 'Perch', 'Parkki', 'Roach', 'Pike', 'Perch', 'Roach',\n",
       "       'Bream', 'Roach', 'Bream', 'Pike', 'Bream', 'Roach', 'Perch',\n",
       "       'Perch', 'Perch', 'Parkki', 'Roach', 'Pike', 'Perch', 'Parkki',\n",
       "       'Bream', 'Perch', 'Perch', 'Roach', 'Perch', 'Perch', 'Perch',\n",
       "       'Perch', 'Smelt', 'Bream', 'Bream'], dtype=object)"
      ]
     },
     "execution_count": 17,
     "metadata": {},
     "output_type": "execute_result"
    }
   ],
   "source": [
    "ssvm_pred = svm_model_linear.predict(X_test)\n",
    "ssvm_pred"
   ]
  },
  {
   "cell_type": "code",
   "execution_count": 18,
   "id": "87cf0e93",
   "metadata": {},
   "outputs": [
    {
     "data": {
      "text/plain": [
       "0.90625"
      ]
     },
     "execution_count": 18,
     "metadata": {},
     "output_type": "execute_result"
    }
   ],
   "source": [
    "accuracy = svm_model_linear.score(X_test, y_test)\n",
    "accuracy"
   ]
  },
  {
   "cell_type": "code",
   "execution_count": 19,
   "id": "ec593802",
   "metadata": {},
   "outputs": [
    {
     "data": {
      "text/plain": [
       "0.984251968503937"
      ]
     },
     "execution_count": 19,
     "metadata": {},
     "output_type": "execute_result"
    }
   ],
   "source": [
    "accuracy = svm_model_linear.score(X_train, y_train)\n",
    "accuracy"
   ]
  },
  {
   "cell_type": "code",
   "execution_count": null,
   "id": "8e62e4e8",
   "metadata": {},
   "outputs": [],
   "source": []
  }
 ],
 "metadata": {
  "kernelspec": {
   "display_name": "Python 3 (ipykernel)",
   "language": "python",
   "name": "python3"
  },
  "language_info": {
   "codemirror_mode": {
    "name": "ipython",
    "version": 3
   },
   "file_extension": ".py",
   "mimetype": "text/x-python",
   "name": "python",
   "nbconvert_exporter": "python",
   "pygments_lexer": "ipython3",
   "version": "3.9.12"
  }
 },
 "nbformat": 4,
 "nbformat_minor": 5
}
